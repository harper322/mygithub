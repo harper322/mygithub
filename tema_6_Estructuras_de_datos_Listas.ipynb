{
  "nbformat": 4,
  "nbformat_minor": 0,
  "metadata": {
    "colab": {
      "name": "tema 6 - Estructuras de datos - Listas.ipynb",
      "provenance": [],
      "authorship_tag": "ABX9TyMcLEJ9JbfvGakPwoTFBbm4",
      "include_colab_link": true
    },
    "kernelspec": {
      "name": "python3",
      "display_name": "Python 3"
    },
    "language_info": {
      "name": "python"
    }
  },
  "cells": [
    {
      "cell_type": "markdown",
      "metadata": {
        "id": "view-in-github",
        "colab_type": "text"
      },
      "source": [
        "<a href=\"https://colab.research.google.com/github/harper322/mygithub/blob/main/tema_6_Estructuras_de_datos_Listas.ipynb\" target=\"_parent\"><img src=\"https://colab.research.google.com/assets/colab-badge.svg\" alt=\"Open In Colab\"/></a>"
      ]
    },
    {
      "cell_type": "markdown",
      "source": [
        "INTRODUCCION A LAS LISTAS"
      ],
      "metadata": {
        "id": "mPENDMKq7XrV"
      }
    },
    {
      "cell_type": "code",
      "source": [
        "lista = ['juan', 31, 172.32, True]\n",
        "print(lista)"
      ],
      "metadata": {
        "colab": {
          "base_uri": "https://localhost:8080/"
        },
        "id": "8vbw_UYf7anO",
        "outputId": "0448bd9b-3444-44c5-ba0e-2958e447c9d8"
      },
      "execution_count": null,
      "outputs": [
        {
          "output_type": "stream",
          "name": "stdout",
          "text": [
            "['juan', 31, 172.32, True]\n"
          ]
        }
      ]
    },
    {
      "cell_type": "code",
      "source": [
        "type(lista)"
      ],
      "metadata": {
        "colab": {
          "base_uri": "https://localhost:8080/"
        },
        "id": "69cm6PQ_8ZUO",
        "outputId": "f7e706ae-3f27-4fec-cf63-3ba7e4434f5b"
      },
      "execution_count": null,
      "outputs": [
        {
          "output_type": "execute_result",
          "data": {
            "text/plain": [
              "list"
            ]
          },
          "metadata": {},
          "execution_count": 2
        }
      ]
    },
    {
      "cell_type": "markdown",
      "source": [
        "##tamaño de una lista `len()`"
      ],
      "metadata": {
        "id": "vUggrAHD8hze"
      }
    },
    {
      "cell_type": "code",
      "source": [
        "lista=[1,2,3,4,5,6,7,8,9]\n",
        "len(lista)"
      ],
      "metadata": {
        "colab": {
          "base_uri": "https://localhost:8080/"
        },
        "id": "IyalYWoz8kBe",
        "outputId": "be617af8-f8f4-47e2-9633-7ed3d9f28881"
      },
      "execution_count": null,
      "outputs": [
        {
          "output_type": "execute_result",
          "data": {
            "text/plain": [
              "9"
            ]
          },
          "metadata": {},
          "execution_count": 4
        }
      ]
    },
    {
      "cell_type": "code",
      "source": [
        "l = ['zoe','pablo','miguel','silvia']\n",
        "len(l)"
      ],
      "metadata": {
        "colab": {
          "base_uri": "https://localhost:8080/"
        },
        "id": "8xKDeupz8zse",
        "outputId": "2bd334c6-bc3d-4341-a976-c136b8063d2a"
      },
      "execution_count": null,
      "outputs": [
        {
          "output_type": "execute_result",
          "data": {
            "text/plain": [
              "4"
            ]
          },
          "metadata": {},
          "execution_count": 6
        }
      ]
    },
    {
      "cell_type": "markdown",
      "source": [
        "##Elementos de una lista"
      ],
      "metadata": {
        "id": "oLb4TYQW8_z2"
      }
    },
    {
      "cell_type": "code",
      "source": [
        "names = [\"Maria\", \"Juan\", \"Claudia\", \"Jorge\", \"Avelina\"]"
      ],
      "metadata": {
        "id": "3EEjbY6f9B3G"
      },
      "execution_count": null,
      "outputs": []
    },
    {
      "cell_type": "markdown",
      "source": [
        "A `María` le corresponde el índice 0; a `Juan`, el 1; a `Claudia` el 2; a `Jorge`, el 3; y a `Avelina`, el 4.\n",
        "\n",
        "**¡Cuidado!** En `Python`, los índices siempre empiezan en 0. De este modo, al primer elemento le corresponde el índice 0; al segundo, el índice 1; y al $n$-ésimo, le corresponde el índice $n−1$."
      ],
      "metadata": {
        "id": "bFaQcOXp-ZIG"
      }
    },
    {
      "cell_type": "code",
      "source": [
        "print(names[0])"
      ],
      "metadata": {
        "colab": {
          "base_uri": "https://localhost:8080/"
        },
        "id": "lmGpm0uw-cfe",
        "outputId": "9ea0f95e-c7f0-4739-9d8d-1c33a851476b"
      },
      "execution_count": null,
      "outputs": [
        {
          "output_type": "stream",
          "name": "stdout",
          "text": [
            "Maria\n"
          ]
        }
      ]
    },
    {
      "cell_type": "code",
      "source": [
        "print(names[3])"
      ],
      "metadata": {
        "colab": {
          "base_uri": "https://localhost:8080/"
        },
        "id": "lvqZ6Htj-w5X",
        "outputId": "a23525a3-418f-46ef-f1d5-b0f88353fe47"
      },
      "execution_count": null,
      "outputs": [
        {
          "output_type": "stream",
          "name": "stdout",
          "text": [
            "Jorge\n"
          ]
        }
      ]
    },
    {
      "cell_type": "code",
      "source": [
        "print(names[-1])"
      ],
      "metadata": {
        "colab": {
          "base_uri": "https://localhost:8080/"
        },
        "id": "zIWvYPbj-8Sm",
        "outputId": "b8567b47-1db1-48f3-d4e5-8f1895594ea0"
      },
      "execution_count": null,
      "outputs": [
        {
          "output_type": "stream",
          "name": "stdout",
          "text": [
            "Avelina\n"
          ]
        }
      ]
    },
    {
      "cell_type": "code",
      "source": [
        "print(names[-3])"
      ],
      "metadata": {
        "colab": {
          "base_uri": "https://localhost:8080/"
        },
        "id": "-DJrAFZw--6l",
        "outputId": "09f34fa6-b610-4374-a3fe-a5ab70fcf62e"
      },
      "execution_count": null,
      "outputs": [
        {
          "output_type": "stream",
          "name": "stdout",
          "text": [
            "Claudia\n"
          ]
        }
      ]
    },
    {
      "cell_type": "code",
      "source": [
        "print(names[2:4])"
      ],
      "metadata": {
        "colab": {
          "base_uri": "https://localhost:8080/"
        },
        "id": "m11m1uMg_KUF",
        "outputId": "ace53da5-3a0d-4654-b09d-c778a5c69769"
      },
      "execution_count": null,
      "outputs": [
        {
          "output_type": "stream",
          "name": "stdout",
          "text": [
            "['Claudia', 'Jorge']\n"
          ]
        }
      ]
    },
    {
      "cell_type": "code",
      "source": [
        "print(names[:3])"
      ],
      "metadata": {
        "colab": {
          "base_uri": "https://localhost:8080/"
        },
        "id": "b1lYi4Br_fTn",
        "outputId": "61d60248-86f3-4eaa-e31a-a795c5b1c9f8"
      },
      "execution_count": null,
      "outputs": [
        {
          "output_type": "stream",
          "name": "stdout",
          "text": [
            "['Maria', 'Juan', 'Claudia']\n"
          ]
        }
      ]
    },
    {
      "cell_type": "code",
      "source": [
        "print(names[3:])"
      ],
      "metadata": {
        "colab": {
          "base_uri": "https://localhost:8080/"
        },
        "id": "3xeAt9QK_hsn",
        "outputId": "2d4fac42-5244-45e1-cfaa-603ae55c78dd"
      },
      "execution_count": null,
      "outputs": [
        {
          "output_type": "stream",
          "name": "stdout",
          "text": [
            "['Jorge', 'Avelina']\n"
          ]
        }
      ]
    },
    {
      "cell_type": "markdown",
      "source": [
        "##Bucles con listas"
      ],
      "metadata": {
        "id": "O-cWHTYIAgfX"
      }
    },
    {
      "cell_type": "code",
      "source": [
        "for i in range(len(names)):\n",
        "    print(names[i])"
      ],
      "metadata": {
        "colab": {
          "base_uri": "https://localhost:8080/"
        },
        "id": "EFRGspj3Aijv",
        "outputId": "25696168-0e68-4996-def0-3ea34d835b6f"
      },
      "execution_count": null,
      "outputs": [
        {
          "output_type": "stream",
          "name": "stdout",
          "text": [
            "Maria\n",
            "Juan\n",
            "Claudia\n",
            "Jorge\n",
            "Avelina\n"
          ]
        }
      ]
    },
    {
      "cell_type": "code",
      "source": [
        "for i in names:\n",
        "    print(i)"
      ],
      "metadata": {
        "colab": {
          "base_uri": "https://localhost:8080/"
        },
        "id": "Q_uubVZCBPl-",
        "outputId": "29f139f3-2bc2-438a-bc22-dad2b76b1ee8"
      },
      "execution_count": null,
      "outputs": [
        {
          "output_type": "stream",
          "name": "stdout",
          "text": [
            "Maria\n",
            "Juan\n",
            "Claudia\n",
            "Jorge\n",
            "Avelina\n"
          ]
        }
      ]
    },
    {
      "cell_type": "markdown",
      "source": [
        "##Concatenacion y repeticion de listas\n",
        "\n",
        "haciendo uso de la funcion `+`"
      ],
      "metadata": {
        "id": "wdXuoAQNB2MH"
      }
    },
    {
      "cell_type": "code",
      "source": [
        "l1 = [True, 21, 'MArta']\n",
        "l2 = [22.5, False, 22, 'rafa']\n",
        "print(l1 + l2)"
      ],
      "metadata": {
        "colab": {
          "base_uri": "https://localhost:8080/"
        },
        "id": "1F_-Cj5TB5tP",
        "outputId": "b71e8944-ccc9-485a-a1bb-80ce1b74f289"
      },
      "execution_count": null,
      "outputs": [
        {
          "output_type": "stream",
          "name": "stdout",
          "text": [
            "[True, 21, 'MArta', 22.5, False, 22, 'rafa']\n"
          ]
        }
      ]
    },
    {
      "cell_type": "markdown",
      "source": [
        "##Repeticion de listas"
      ],
      "metadata": {
        "id": "X9HRD9rlCX2v"
      }
    },
    {
      "cell_type": "code",
      "source": [
        "abc = ['A','B','C']\n",
        "print(abc * 5)"
      ],
      "metadata": {
        "colab": {
          "base_uri": "https://localhost:8080/"
        },
        "id": "0pct7xX2Cbi4",
        "outputId": "7ed05c92-77bd-4d92-c0f0-653279217568"
      },
      "execution_count": null,
      "outputs": [
        {
          "output_type": "stream",
          "name": "stdout",
          "text": [
            "['A', 'B', 'C', 'A', 'B', 'C', 'A', 'B', 'C', 'A', 'B', 'C', 'A', 'B', 'C']\n"
          ]
        }
      ]
    },
    {
      "cell_type": "markdown",
      "source": [
        "##Mas metodos de listas\n",
        "\n",
        "el metodo `.count`"
      ],
      "metadata": {
        "id": "HvlGTFPdCsv4"
      }
    }
  ]
}